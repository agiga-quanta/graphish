{
 "cells": [
  {
   "cell_type": "markdown",
   "metadata": {
    "id": "Pw2-HXF-4N3D"
   },
   "source": [
    "# Barriers \n",
    "\n",
    "In this notebook the barrier dataset is explored.\n",
    "\n",
    "\n",
    "[![Open In Colab](https://colab.research.google.com/assets/colab-badge.svg)](https://colab.research.google.com/github/dfo-mpo/graphish/blob/nhn_dev/NHN/Barrier_preprocessing-colab.ipynb)"
   ]
  },
  {
   "cell_type": "code",
   "execution_count": 1,
   "metadata": {
    "colab": {
     "base_uri": "https://localhost:8080/"
    },
    "id": "hHfc7wCY4SXX",
    "outputId": "58091160-61c7-43df-9654-cf374114e2d6"
   },
   "outputs": [
    {
     "name": "stdout",
     "output_type": "stream",
     "text": [
      "Requirement already satisfied: geopandas in /home/javad/anaconda3/lib/python3.8/site-packages (0.8.2)\n",
      "Requirement already satisfied: pandas>=0.23.0 in /home/javad/.local/lib/python3.8/site-packages (from geopandas) (1.0.5)\n",
      "Requirement already satisfied: fiona in /home/javad/anaconda3/lib/python3.8/site-packages (from geopandas) (1.8.18)\n",
      "Requirement already satisfied: pyproj>=2.2.0 in /home/javad/anaconda3/lib/python3.8/site-packages (from geopandas) (3.0.0.post1)\n",
      "Requirement already satisfied: shapely in /home/javad/anaconda3/lib/python3.8/site-packages (from geopandas) (1.7.1)\n",
      "Requirement already satisfied: python-dateutil>=2.6.1 in /home/javad/anaconda3/lib/python3.8/site-packages (from pandas>=0.23.0->geopandas) (2.8.0)\n",
      "Requirement already satisfied: pytz>=2017.2 in /home/javad/anaconda3/lib/python3.8/site-packages (from pandas>=0.23.0->geopandas) (2020.1)\n",
      "Requirement already satisfied: numpy>=1.13.3 in /home/javad/.local/lib/python3.8/site-packages (from pandas>=0.23.0->geopandas) (1.19.0)\n",
      "Requirement already satisfied: munch in /home/javad/anaconda3/lib/python3.8/site-packages (from fiona->geopandas) (2.5.0)\n",
      "Requirement already satisfied: certifi in /home/javad/anaconda3/lib/python3.8/site-packages (from fiona->geopandas) (2020.12.5)\n",
      "Requirement already satisfied: attrs>=17 in /home/javad/anaconda3/lib/python3.8/site-packages (from fiona->geopandas) (20.2.0)\n",
      "Requirement already satisfied: cligj>=0.5 in /home/javad/anaconda3/lib/python3.8/site-packages (from fiona->geopandas) (0.7.1)\n",
      "Requirement already satisfied: click<8,>=4.0 in /home/javad/anaconda3/lib/python3.8/site-packages (from fiona->geopandas) (7.1.2)\n",
      "Requirement already satisfied: click-plugins>=1.0 in /home/javad/anaconda3/lib/python3.8/site-packages (from fiona->geopandas) (1.1.1)\n",
      "Requirement already satisfied: six>=1.7 in /home/javad/anaconda3/lib/python3.8/site-packages (from fiona->geopandas) (1.15.0)\n",
      "Requirement already satisfied: fiona in /home/javad/anaconda3/lib/python3.8/site-packages (1.8.18)\n",
      "Requirement already satisfied: click<8,>=4.0 in /home/javad/anaconda3/lib/python3.8/site-packages (from fiona) (7.1.2)\n",
      "Requirement already satisfied: munch in /home/javad/anaconda3/lib/python3.8/site-packages (from fiona) (2.5.0)\n",
      "Requirement already satisfied: attrs>=17 in /home/javad/anaconda3/lib/python3.8/site-packages (from fiona) (20.2.0)\n",
      "Requirement already satisfied: certifi in /home/javad/anaconda3/lib/python3.8/site-packages (from fiona) (2020.12.5)\n",
      "Requirement already satisfied: click-plugins>=1.0 in /home/javad/anaconda3/lib/python3.8/site-packages (from fiona) (1.1.1)\n",
      "Requirement already satisfied: six>=1.7 in /home/javad/anaconda3/lib/python3.8/site-packages (from fiona) (1.15.0)\n",
      "Requirement already satisfied: cligj>=0.5 in /home/javad/anaconda3/lib/python3.8/site-packages (from fiona) (0.7.1)\n"
     ]
    }
   ],
   "source": [
    "# Run this cell only if using google colab or if the next cell throws error\n",
    "# Install packages\n",
    "!pip install geopandas\n",
    "!pip install fiona"
   ]
  },
  {
   "cell_type": "code",
   "execution_count": 3,
   "metadata": {
    "id": "iUi-Q2jr4N3G"
   },
   "outputs": [],
   "source": [
    "import pandas as pd\n",
    "import geopandas as gpd\n",
    "import fiona"
   ]
  },
  {
   "cell_type": "markdown",
   "metadata": {
    "id": "ec1blkPS8DVA"
   },
   "source": [
    "Go to your Google Drive acount and right click on the shared folder and select the \"Add shortcut to drive\". Create the shortcut in the root (main) google drive folder.\n",
    "![Picture](https://github.com/khataei/NHN/raw/master/Screenshot%20from%202021-03-15%2022-52-16.png)"
   ]
  },
  {
   "cell_type": "code",
   "execution_count": 22,
   "metadata": {
    "colab": {
     "base_uri": "https://localhost:8080/"
    },
    "id": "nnkWdcqI5IJK",
    "outputId": "042ed4c2-9644-47d2-b0de-f5688587a21c"
   },
   "outputs": [
    {
     "name": "stdout",
     "output_type": "stream",
     "text": [
      "Mounted at /content/drive\n"
     ]
    }
   ],
   "source": [
    "# connect to googledrive\n",
    "# follow the link and authorize\n",
    "from google.colab import drive\n",
    "drive.mount('/content/drive', force_remount=True)"
   ]
  },
  {
   "cell_type": "code",
   "execution_count": 21,
   "metadata": {
    "colab": {
     "base_uri": "https://localhost:8080/"
    },
    "id": "TtLrrfnR5X7P",
    "outputId": "7d6dcda9-96e3-4d94-fa56-f6708e536c72"
   },
   "outputs": [
    {
     "name": "stdout",
     "output_type": "stream",
     "text": [
      "'ACA Data Collection Sheet_ALL.csv'\n",
      "'ACA Data Collection Sheet_Analyzed.xlsx'\n",
      "'Data discussions Winter 2021_Data Manager contract.csv'\n",
      "'Data discussions Winter 2021_Data Manager contract.xlsx'\n",
      " ESA_Contacts.csv\n",
      " Humber_Barriers_03Mar2021.gpkg\n",
      "'Integrated Planning External Contacts sheet.gsheet'\n",
      " Labrador_2020_eDNAcsv.csv\n",
      "'Labrador_2020_sites (1).gsheet'\n",
      " Labrador_2020_sites.csv\n",
      " Labrador_2020_sites.gsheet\n",
      " NHN_fields_Dictionary.csv\n",
      " NHN_Sample.csv\n",
      " NHN_Sample.gsheet\n",
      " Processed.ACA.csv\n",
      " Processed.ACA.V2.csv\n",
      " Processed.ACA.V2.gsheet\n",
      " Processed_for_data_model\n",
      " Salmonids_eDNAElectrofishingRivers2020_v2.csv\n"
     ]
    }
   ],
   "source": [
    "# should be able to see the files \n",
    "!ls  drive/MyDrive/DFO_Contract/Raw-files/"
   ]
  },
  {
   "cell_type": "code",
   "execution_count": 25,
   "metadata": {
    "colab": {
     "base_uri": "https://localhost:8080/"
    },
    "id": "6Rje3TiR4N3H",
    "outputId": "1f00b17c-4228-4b3d-9381-736d53594d45"
   },
   "outputs": [
    {
     "name": "stderr",
     "output_type": "stream",
     "text": [
      "/usr/local/lib/python3.7/dist-packages/geopandas/geodataframe.py:577: RuntimeWarning: Sequential read of iterator was interrupted. Resetting iterator. This can negatively impact the performance.\n",
      "  for feature in features_lst:\n"
     ]
    }
   ],
   "source": [
    "#read the file\n",
    "file_path = \"drive/MyDrive/DFO_Contract/Raw-files/Humber_Barriers_03Mar2021.gpkg\"\n",
    "br_df = gpd.read_file(file_path)"
   ]
  },
  {
   "cell_type": "code",
   "execution_count": 24,
   "metadata": {
    "colab": {
     "base_uri": "https://localhost:8080/",
     "height": 147
    },
    "id": "lGmKsa6_4N3H",
    "outputId": "0a486aae-6168-475e-dff1-721ab2384bd2"
   },
   "outputs": [
    {
     "data": {
      "text/html": [
       "<div>\n",
       "<style scoped>\n",
       "    .dataframe tbody tr th:only-of-type {\n",
       "        vertical-align: middle;\n",
       "    }\n",
       "\n",
       "    .dataframe tbody tr th {\n",
       "        vertical-align: top;\n",
       "    }\n",
       "\n",
       "    .dataframe thead th {\n",
       "        text-align: right;\n",
       "    }\n",
       "</style>\n",
       "<table border=\"1\" class=\"dataframe\">\n",
       "  <thead>\n",
       "    <tr style=\"text-align: right;\">\n",
       "      <th></th>\n",
       "      <th>GRAND_ID</th>\n",
       "      <th>RES_NAME</th>\n",
       "      <th>DAM_NAME</th>\n",
       "      <th>ALT_NAME</th>\n",
       "      <th>RIVER</th>\n",
       "      <th>ALT_RIVER</th>\n",
       "      <th>MAIN_BASIN</th>\n",
       "      <th>SUB_BASIN</th>\n",
       "      <th>NEAR_CITY</th>\n",
       "      <th>ALT_CITY</th>\n",
       "      <th>ADMIN_UNIT</th>\n",
       "      <th>SEC_ADMIN</th>\n",
       "      <th>COUNTRY</th>\n",
       "      <th>SEC_CNTRY</th>\n",
       "      <th>YEAR</th>\n",
       "      <th>ALT_YEAR</th>\n",
       "      <th>REM_YEAR</th>\n",
       "      <th>DAM_HGT_M</th>\n",
       "      <th>ALT_HGT_M</th>\n",
       "      <th>DAM_LEN_M</th>\n",
       "      <th>ALT_LEN_M</th>\n",
       "      <th>AREA_SKM</th>\n",
       "      <th>AREA_POLY</th>\n",
       "      <th>AREA_REP</th>\n",
       "      <th>AREA_MAX</th>\n",
       "      <th>AREA_MIN</th>\n",
       "      <th>CAP_MCM</th>\n",
       "      <th>CAP_MAX</th>\n",
       "      <th>CAP_REP</th>\n",
       "      <th>CAP_MIN</th>\n",
       "      <th>DEPTH_M</th>\n",
       "      <th>DIS_AVG_LS</th>\n",
       "      <th>DOR_PC</th>\n",
       "      <th>ELEV_MASL</th>\n",
       "      <th>CATCH_SKM</th>\n",
       "      <th>CATCH_REP</th>\n",
       "      <th>DATA_INFO</th>\n",
       "      <th>USE_IRRI</th>\n",
       "      <th>USE_ELEC</th>\n",
       "      <th>USE_SUPP</th>\n",
       "      <th>USE_FCON</th>\n",
       "      <th>USE_RECR</th>\n",
       "      <th>USE_NAVI</th>\n",
       "      <th>USE_FISH</th>\n",
       "      <th>USE_PCON</th>\n",
       "      <th>USE_LIVE</th>\n",
       "      <th>USE_OTHR</th>\n",
       "      <th>MAIN_USE</th>\n",
       "      <th>LAKE_CTRL</th>\n",
       "      <th>MULTI_DAMS</th>\n",
       "      <th>TIMELINE</th>\n",
       "      <th>COMMENTS</th>\n",
       "      <th>URL</th>\n",
       "      <th>QUALITY</th>\n",
       "      <th>EDITOR</th>\n",
       "      <th>LONG_DD</th>\n",
       "      <th>LAT_DD</th>\n",
       "      <th>POLY_SRC</th>\n",
       "      <th>ID_GRanD</th>\n",
       "      <th>NL_Dam_Review_grand_Dam ID</th>\n",
       "      <th>geometry</th>\n",
       "    </tr>\n",
       "  </thead>\n",
       "  <tbody>\n",
       "    <tr>\n",
       "      <th>0</th>\n",
       "      <td>2350</td>\n",
       "      <td>Grand Lake</td>\n",
       "      <td>Plain Diversion Dam</td>\n",
       "      <td>Main Diversion</td>\n",
       "      <td>Junction Brook</td>\n",
       "      <td>None</td>\n",
       "      <td>None</td>\n",
       "      <td>None</td>\n",
       "      <td>Deer Lake</td>\n",
       "      <td>None</td>\n",
       "      <td>Newfoundland and Labrador</td>\n",
       "      <td>None</td>\n",
       "      <td>Canada</td>\n",
       "      <td>None</td>\n",
       "      <td>1924</td>\n",
       "      <td>-99</td>\n",
       "      <td>-99</td>\n",
       "      <td>25</td>\n",
       "      <td>-99</td>\n",
       "      <td>226</td>\n",
       "      <td>-99</td>\n",
       "      <td>496.96</td>\n",
       "      <td>496.96</td>\n",
       "      <td>450.0</td>\n",
       "      <td>-99.0</td>\n",
       "      <td>-99.0</td>\n",
       "      <td>1790.0</td>\n",
       "      <td>1790.0</td>\n",
       "      <td>1788.6</td>\n",
       "      <td>-99.0</td>\n",
       "      <td>3.6</td>\n",
       "      <td>129410</td>\n",
       "      <td>43.9</td>\n",
       "      <td>86</td>\n",
       "      <td>4584</td>\n",
       "      <td>-99</td>\n",
       "      <td>None</td>\n",
       "      <td>None</td>\n",
       "      <td>Main</td>\n",
       "      <td>None</td>\n",
       "      <td>None</td>\n",
       "      <td>None</td>\n",
       "      <td>None</td>\n",
       "      <td>None</td>\n",
       "      <td>None</td>\n",
       "      <td>None</td>\n",
       "      <td>None</td>\n",
       "      <td>Hydroelectricity</td>\n",
       "      <td>Yes</td>\n",
       "      <td>None</td>\n",
       "      <td>None</td>\n",
       "      <td>None</td>\n",
       "      <td>None</td>\n",
       "      <td>3: Fair</td>\n",
       "      <td>McGill-BL</td>\n",
       "      <td>-57.261458</td>\n",
       "      <td>49.196212</td>\n",
       "      <td>CanVec</td>\n",
       "      <td>213</td>\n",
       "      <td>2350</td>\n",
       "      <td>POINT (-57.25639 49.19823)</td>\n",
       "    </tr>\n",
       "  </tbody>\n",
       "</table>\n",
       "</div>"
      ],
      "text/plain": [
       "   GRAND_ID    RES_NAME  ... NL_Dam_Review_grand_Dam ID                    geometry\n",
       "0      2350  Grand Lake  ...                       2350  POINT (-57.25639 49.19823)\n",
       "\n",
       "[1 rows x 61 columns]"
      ]
     },
     "execution_count": 24,
     "metadata": {
      "tags": []
     },
     "output_type": "execute_result"
    }
   ],
   "source": [
    "br_df"
   ]
  },
  {
   "cell_type": "markdown",
   "metadata": {
    "id": "qOOS1m6y4N3I"
   },
   "source": [
    "`Geopandas` only reads one layer! To fix this issue, find all the layers and read them separately."
   ]
  },
  {
   "cell_type": "code",
   "execution_count": 26,
   "metadata": {
    "colab": {
     "base_uri": "https://localhost:8080/"
    },
    "id": "UQ__rL4Z4N3I",
    "outputId": "730244bc-3e5a-4188-a69c-8af239d19af0"
   },
   "outputs": [
    {
     "name": "stdout",
     "output_type": "stream",
     "text": [
      "PR_Humber_Dams_grand 1\n",
      "PR_Humber_Dams_nhn 31\n",
      "PR_Humber_Dams_nlprov 34\n",
      "PR_Humber_Dams_npdp 1\n",
      "PR_Humber_Falls_NHN 31\n",
      "layer_styles 5\n"
     ]
    }
   ],
   "source": [
    "# check the layers\n",
    "for layername in fiona.listlayers(file_path):\n",
    "    with fiona.open(file_path, layer=layername) as src:\n",
    "        print(layername, len(src))\n",
    "        "
   ]
  },
  {
   "cell_type": "code",
   "execution_count": 27,
   "metadata": {
    "colab": {
     "base_uri": "https://localhost:8080/"
    },
    "id": "33qxcOV54N3J",
    "outputId": "a43fa442-1b61-4035-d5ad-d3a2b2aea2e0"
   },
   "outputs": [
    {
     "name": "stderr",
     "output_type": "stream",
     "text": [
      "/usr/local/lib/python3.7/dist-packages/geopandas/geodataframe.py:577: RuntimeWarning: Sequential read of iterator was interrupted. Resetting iterator. This can negatively impact the performance.\n",
      "  for feature in features_lst:\n"
     ]
    },
    {
     "name": "stdout",
     "output_type": "stream",
     "text": [
      "The pr_humber_dams_grand_df  is creade\n",
      "The pr_humber_dams_nhn_df  is creade\n",
      "The pr_humber_dams_nlprov_df  is creade\n",
      "The pr_humber_dams_npdp_df  is creade\n",
      "The pr_humber_falls_nhn_df  is creade\n",
      "The layer_styles_df  is creade\n"
     ]
    }
   ],
   "source": [
    "for layername in fiona.listlayers(file_path):\n",
    "    geopkg = gpd.read_file(file_path, layer=layername)\n",
    "    df_name = layername.lower() + \"_df\"\n",
    "    vars()[df_name] = geopkg\n",
    "    print(\"The\", df_name, \" is creade\")\n"
   ]
  },
  {
   "cell_type": "markdown",
   "metadata": {
    "id": "xHWc_9u_4N3J"
   },
   "source": [
    "### Check the size of each dataframe\n",
    "the first number is the number or rows, the second is the number of columns"
   ]
  },
  {
   "cell_type": "code",
   "execution_count": 28,
   "metadata": {
    "colab": {
     "base_uri": "https://localhost:8080/"
    },
    "id": "sNq2VuBx4N3K",
    "outputId": "277631cc-578a-4bbe-f0d1-8f0c1941a458"
   },
   "outputs": [
    {
     "data": {
      "text/plain": [
       "((1, 61), (31, 25), (34, 22), (1, 38), (31, 21))"
      ]
     },
     "execution_count": 28,
     "metadata": {
      "tags": []
     },
     "output_type": "execute_result"
    }
   ],
   "source": [
    "pr_humber_dams_grand_df.shape, pr_humber_dams_nhn_df.shape,\\\n",
    "pr_humber_dams_nlprov_df.shape, pr_humber_dams_npdp_df.shape, pr_humber_falls_nhn_df.shape"
   ]
  },
  {
   "cell_type": "markdown",
   "metadata": {
    "id": "ajNnry52-5vG"
   },
   "source": [
    "pr_humber_dams_grand_df has 1 row and 61 columns. etc, etc."
   ]
  },
  {
   "cell_type": "markdown",
   "metadata": {
    "id": "qEBPj4dh_GAx"
   },
   "source": [
    "## pr_humber_dams_grand_df columns:"
   ]
  },
  {
   "cell_type": "code",
   "execution_count": 29,
   "metadata": {
    "colab": {
     "base_uri": "https://localhost:8080/"
    },
    "id": "wQ8IcLWy_Eul",
    "outputId": "fae7d6b1-eaa8-4c14-cf35-70725baf431f"
   },
   "outputs": [
    {
     "name": "stdout",
     "output_type": "stream",
     "text": [
      "<class 'geopandas.geodataframe.GeoDataFrame'>\n",
      "RangeIndex: 1 entries, 0 to 0\n",
      "Data columns (total 61 columns):\n",
      " #   Column                      Non-Null Count  Dtype   \n",
      "---  ------                      --------------  -----   \n",
      " 0   GRAND_ID                    1 non-null      int64   \n",
      " 1   RES_NAME                    1 non-null      object  \n",
      " 2   DAM_NAME                    1 non-null      object  \n",
      " 3   ALT_NAME                    1 non-null      object  \n",
      " 4   RIVER                       1 non-null      object  \n",
      " 5   ALT_RIVER                   0 non-null      object  \n",
      " 6   MAIN_BASIN                  0 non-null      object  \n",
      " 7   SUB_BASIN                   0 non-null      object  \n",
      " 8   NEAR_CITY                   1 non-null      object  \n",
      " 9   ALT_CITY                    0 non-null      object  \n",
      " 10  ADMIN_UNIT                  1 non-null      object  \n",
      " 11  SEC_ADMIN                   0 non-null      object  \n",
      " 12  COUNTRY                     1 non-null      object  \n",
      " 13  SEC_CNTRY                   0 non-null      object  \n",
      " 14  YEAR                        1 non-null      int64   \n",
      " 15  ALT_YEAR                    1 non-null      int64   \n",
      " 16  REM_YEAR                    1 non-null      int64   \n",
      " 17  DAM_HGT_M                   1 non-null      int64   \n",
      " 18  ALT_HGT_M                   1 non-null      int64   \n",
      " 19  DAM_LEN_M                   1 non-null      int64   \n",
      " 20  ALT_LEN_M                   1 non-null      int64   \n",
      " 21  AREA_SKM                    1 non-null      float64 \n",
      " 22  AREA_POLY                   1 non-null      float64 \n",
      " 23  AREA_REP                    1 non-null      float64 \n",
      " 24  AREA_MAX                    1 non-null      float64 \n",
      " 25  AREA_MIN                    1 non-null      float64 \n",
      " 26  CAP_MCM                     1 non-null      float64 \n",
      " 27  CAP_MAX                     1 non-null      float64 \n",
      " 28  CAP_REP                     1 non-null      float64 \n",
      " 29  CAP_MIN                     1 non-null      float64 \n",
      " 30  DEPTH_M                     1 non-null      float64 \n",
      " 31  DIS_AVG_LS                  1 non-null      int64   \n",
      " 32  DOR_PC                      1 non-null      float64 \n",
      " 33  ELEV_MASL                   1 non-null      int64   \n",
      " 34  CATCH_SKM                   1 non-null      int64   \n",
      " 35  CATCH_REP                   1 non-null      int64   \n",
      " 36  DATA_INFO                   0 non-null      object  \n",
      " 37  USE_IRRI                    0 non-null      object  \n",
      " 38  USE_ELEC                    1 non-null      object  \n",
      " 39  USE_SUPP                    0 non-null      object  \n",
      " 40  USE_FCON                    0 non-null      object  \n",
      " 41  USE_RECR                    0 non-null      object  \n",
      " 42  USE_NAVI                    0 non-null      object  \n",
      " 43  USE_FISH                    0 non-null      object  \n",
      " 44  USE_PCON                    0 non-null      object  \n",
      " 45  USE_LIVE                    0 non-null      object  \n",
      " 46  USE_OTHR                    0 non-null      object  \n",
      " 47  MAIN_USE                    1 non-null      object  \n",
      " 48  LAKE_CTRL                   1 non-null      object  \n",
      " 49  MULTI_DAMS                  0 non-null      object  \n",
      " 50  TIMELINE                    0 non-null      object  \n",
      " 51  COMMENTS                    0 non-null      object  \n",
      " 52  URL                         0 non-null      object  \n",
      " 53  QUALITY                     1 non-null      object  \n",
      " 54  EDITOR                      1 non-null      object  \n",
      " 55  LONG_DD                     1 non-null      float64 \n",
      " 56  LAT_DD                      1 non-null      float64 \n",
      " 57  POLY_SRC                    1 non-null      object  \n",
      " 58  ID_GRanD                    1 non-null      int64   \n",
      " 59  NL_Dam_Review_grand_Dam ID  1 non-null      object  \n",
      " 60  geometry                    1 non-null      geometry\n",
      "dtypes: float64(13), geometry(1), int64(13), object(34)\n",
      "memory usage: 616.0+ bytes\n"
     ]
    }
   ],
   "source": [
    "pr_humber_dams_grand_df.info()"
   ]
  },
  {
   "cell_type": "code",
   "execution_count": 31,
   "metadata": {
    "colab": {
     "base_uri": "https://localhost:8080/",
     "height": 147
    },
    "id": "92no1XXF4N3K",
    "outputId": "c0a482db-ff65-436e-f1c7-33d96ee668aa"
   },
   "outputs": [
    {
     "data": {
      "text/html": [
       "<div>\n",
       "<style scoped>\n",
       "    .dataframe tbody tr th:only-of-type {\n",
       "        vertical-align: middle;\n",
       "    }\n",
       "\n",
       "    .dataframe tbody tr th {\n",
       "        vertical-align: top;\n",
       "    }\n",
       "\n",
       "    .dataframe thead th {\n",
       "        text-align: right;\n",
       "    }\n",
       "</style>\n",
       "<table border=\"1\" class=\"dataframe\">\n",
       "  <thead>\n",
       "    <tr style=\"text-align: right;\">\n",
       "      <th></th>\n",
       "      <th>GRAND_ID</th>\n",
       "      <th>RES_NAME</th>\n",
       "      <th>DAM_NAME</th>\n",
       "      <th>ALT_NAME</th>\n",
       "      <th>RIVER</th>\n",
       "      <th>ALT_RIVER</th>\n",
       "      <th>MAIN_BASIN</th>\n",
       "      <th>SUB_BASIN</th>\n",
       "      <th>NEAR_CITY</th>\n",
       "      <th>ALT_CITY</th>\n",
       "      <th>ADMIN_UNIT</th>\n",
       "      <th>SEC_ADMIN</th>\n",
       "      <th>COUNTRY</th>\n",
       "      <th>SEC_CNTRY</th>\n",
       "      <th>YEAR</th>\n",
       "      <th>ALT_YEAR</th>\n",
       "      <th>REM_YEAR</th>\n",
       "      <th>DAM_HGT_M</th>\n",
       "      <th>ALT_HGT_M</th>\n",
       "      <th>DAM_LEN_M</th>\n",
       "      <th>ALT_LEN_M</th>\n",
       "      <th>AREA_SKM</th>\n",
       "      <th>AREA_POLY</th>\n",
       "      <th>AREA_REP</th>\n",
       "      <th>AREA_MAX</th>\n",
       "      <th>AREA_MIN</th>\n",
       "      <th>CAP_MCM</th>\n",
       "      <th>CAP_MAX</th>\n",
       "      <th>CAP_REP</th>\n",
       "      <th>CAP_MIN</th>\n",
       "      <th>DEPTH_M</th>\n",
       "      <th>DIS_AVG_LS</th>\n",
       "      <th>DOR_PC</th>\n",
       "      <th>ELEV_MASL</th>\n",
       "      <th>CATCH_SKM</th>\n",
       "      <th>CATCH_REP</th>\n",
       "      <th>DATA_INFO</th>\n",
       "      <th>USE_IRRI</th>\n",
       "      <th>USE_ELEC</th>\n",
       "      <th>USE_SUPP</th>\n",
       "      <th>USE_FCON</th>\n",
       "      <th>USE_RECR</th>\n",
       "      <th>USE_NAVI</th>\n",
       "      <th>USE_FISH</th>\n",
       "      <th>USE_PCON</th>\n",
       "      <th>USE_LIVE</th>\n",
       "      <th>USE_OTHR</th>\n",
       "      <th>MAIN_USE</th>\n",
       "      <th>LAKE_CTRL</th>\n",
       "      <th>MULTI_DAMS</th>\n",
       "      <th>TIMELINE</th>\n",
       "      <th>COMMENTS</th>\n",
       "      <th>URL</th>\n",
       "      <th>QUALITY</th>\n",
       "      <th>EDITOR</th>\n",
       "      <th>LONG_DD</th>\n",
       "      <th>LAT_DD</th>\n",
       "      <th>POLY_SRC</th>\n",
       "      <th>ID_GRanD</th>\n",
       "      <th>NL_Dam_Review_grand_Dam ID</th>\n",
       "      <th>geometry</th>\n",
       "    </tr>\n",
       "  </thead>\n",
       "  <tbody>\n",
       "    <tr>\n",
       "      <th>0</th>\n",
       "      <td>2350</td>\n",
       "      <td>Grand Lake</td>\n",
       "      <td>Plain Diversion Dam</td>\n",
       "      <td>Main Diversion</td>\n",
       "      <td>Junction Brook</td>\n",
       "      <td>None</td>\n",
       "      <td>None</td>\n",
       "      <td>None</td>\n",
       "      <td>Deer Lake</td>\n",
       "      <td>None</td>\n",
       "      <td>Newfoundland and Labrador</td>\n",
       "      <td>None</td>\n",
       "      <td>Canada</td>\n",
       "      <td>None</td>\n",
       "      <td>1924</td>\n",
       "      <td>-99</td>\n",
       "      <td>-99</td>\n",
       "      <td>25</td>\n",
       "      <td>-99</td>\n",
       "      <td>226</td>\n",
       "      <td>-99</td>\n",
       "      <td>496.96</td>\n",
       "      <td>496.96</td>\n",
       "      <td>450.0</td>\n",
       "      <td>-99.0</td>\n",
       "      <td>-99.0</td>\n",
       "      <td>1790.0</td>\n",
       "      <td>1790.0</td>\n",
       "      <td>1788.6</td>\n",
       "      <td>-99.0</td>\n",
       "      <td>3.6</td>\n",
       "      <td>129410</td>\n",
       "      <td>43.9</td>\n",
       "      <td>86</td>\n",
       "      <td>4584</td>\n",
       "      <td>-99</td>\n",
       "      <td>None</td>\n",
       "      <td>None</td>\n",
       "      <td>Main</td>\n",
       "      <td>None</td>\n",
       "      <td>None</td>\n",
       "      <td>None</td>\n",
       "      <td>None</td>\n",
       "      <td>None</td>\n",
       "      <td>None</td>\n",
       "      <td>None</td>\n",
       "      <td>None</td>\n",
       "      <td>Hydroelectricity</td>\n",
       "      <td>Yes</td>\n",
       "      <td>None</td>\n",
       "      <td>None</td>\n",
       "      <td>None</td>\n",
       "      <td>None</td>\n",
       "      <td>3: Fair</td>\n",
       "      <td>McGill-BL</td>\n",
       "      <td>-57.261458</td>\n",
       "      <td>49.196212</td>\n",
       "      <td>CanVec</td>\n",
       "      <td>213</td>\n",
       "      <td>2350</td>\n",
       "      <td>POINT (-57.25639 49.19823)</td>\n",
       "    </tr>\n",
       "  </tbody>\n",
       "</table>\n",
       "</div>"
      ],
      "text/plain": [
       "   GRAND_ID    RES_NAME  ... NL_Dam_Review_grand_Dam ID                    geometry\n",
       "0      2350  Grand Lake  ...                       2350  POINT (-57.25639 49.19823)\n",
       "\n",
       "[1 rows x 61 columns]"
      ]
     },
     "execution_count": 31,
     "metadata": {
      "tags": []
     },
     "output_type": "execute_result"
    }
   ],
   "source": [
    "pr_humber_dams_grand_df.head()"
   ]
  },
  {
   "cell_type": "markdown",
   "metadata": {
    "id": "7WZkqRQBBlBG"
   },
   "source": [
    "# Note:\n",
    "If you want to check the value of any of this column, use the next cell and change the name of the column to your desired columns.\n",
    "Example:\n",
    "`pr_humber_dams_grand_df.GRAND_ID` will return only the GRAND_ID column."
   ]
  },
  {
   "cell_type": "code",
   "execution_count": 45,
   "metadata": {
    "colab": {
     "base_uri": "https://localhost:8080/"
    },
    "id": "nDiEKXB-B5K8",
    "outputId": "39eb19f5-d986-4f13-9bc2-18665aac5e43"
   },
   "outputs": [
    {
     "data": {
      "text/plain": [
       "0    3: Fair\n",
       "Name: QUALITY, dtype: object"
      ]
     },
     "execution_count": 45,
     "metadata": {
      "tags": []
     },
     "output_type": "execute_result"
    }
   ],
   "source": [
    "# Another example for quality\n",
    "pr_humber_dams_grand_df.QUALITY"
   ]
  },
  {
   "cell_type": "markdown",
   "metadata": {
    "id": "4nSJk_pPCaiX"
   },
   "source": [
    "To see only the unique values of a column: `pr_humber_dams_grand_df.GRAND_ID.unique()`"
   ]
  },
  {
   "cell_type": "code",
   "execution_count": 47,
   "metadata": {
    "colab": {
     "base_uri": "https://localhost:8080/"
    },
    "id": "-PYWv-AdCaGF",
    "outputId": "e5151827-73a4-454d-b9d1-e634072590bd"
   },
   "outputs": [
    {
     "data": {
      "text/plain": [
       "array([43.9])"
      ]
     },
     "execution_count": 47,
     "metadata": {
      "tags": []
     },
     "output_type": "execute_result"
    }
   ],
   "source": [
    "# in this dataset we only have one row, so using unique is not necessary. Only for demonstration:\n",
    "\n",
    "pr_humber_dams_grand_df.DOR_PC.unique()"
   ]
  },
  {
   "cell_type": "markdown",
   "metadata": {
    "id": "Q3F1b-hb_U78"
   },
   "source": [
    "## pr_humber_dams_nhn_df columns:"
   ]
  },
  {
   "cell_type": "code",
   "execution_count": 32,
   "metadata": {
    "colab": {
     "base_uri": "https://localhost:8080/"
    },
    "id": "psjsdJT8_TYY",
    "outputId": "21222565-d6fb-4666-c80e-638dc0328421"
   },
   "outputs": [
    {
     "name": "stdout",
     "output_type": "stream",
     "text": [
      "<class 'geopandas.geodataframe.GeoDataFrame'>\n",
      "RangeIndex: 31 entries, 0 to 30\n",
      "Data columns (total 25 columns):\n",
      " #   Column                    Non-Null Count  Dtype   \n",
      "---  ------                    --------------  -----   \n",
      " 0   OBJECTID                  31 non-null     float64 \n",
      " 1   nid                       31 non-null     object  \n",
      " 2   validityDa                31 non-null     object  \n",
      " 3   acquisitio                31 non-null     int64   \n",
      " 4   datasetNam                31 non-null     object  \n",
      " 5   planimetri                31 non-null     int64   \n",
      " 6   provider                  31 non-null     int64   \n",
      " 7   completely                31 non-null     int64   \n",
      " 8   manmadeTyp                31 non-null     int64   \n",
      " 9   manmadeT_1                31 non-null     object  \n",
      " 10  manmadeSta                31 non-null     int64   \n",
      " 11  geographic                0 non-null      object  \n",
      " 12  nameId1                   0 non-null      object  \n",
      " 13  nameId2                   0 non-null      object  \n",
      " 14  name1                     0 non-null      object  \n",
      " 15  name2                     0 non-null      object  \n",
      " 16  idDate                    0 non-null      object  \n",
      " 17  nameDate                  0 non-null      object  \n",
      " 18  SHAPE_Leng                20 non-null     float64 \n",
      " 19  SHAPE_Area                0 non-null      object  \n",
      " 20  layer                     31 non-null     object  \n",
      " 21  path                      31 non-null     object  \n",
      " 22  ID_NHN                    31 non-null     int64   \n",
      " 23  NL_Dam_Review_nhn_Dam ID  31 non-null     object  \n",
      " 24  geometry                  31 non-null     geometry\n",
      "dtypes: float64(2), geometry(1), int64(7), object(15)\n",
      "memory usage: 6.2+ KB\n"
     ]
    }
   ],
   "source": [
    "pr_humber_dams_nhn_df.info()"
   ]
  },
  {
   "cell_type": "code",
   "execution_count": 33,
   "metadata": {
    "colab": {
     "base_uri": "https://localhost:8080/",
     "height": 384
    },
    "id": "Vb4jnbnb4N3L",
    "outputId": "38c1b3bd-041f-4589-e760-638d767cc5be"
   },
   "outputs": [
    {
     "data": {
      "text/html": [
       "<div>\n",
       "<style scoped>\n",
       "    .dataframe tbody tr th:only-of-type {\n",
       "        vertical-align: middle;\n",
       "    }\n",
       "\n",
       "    .dataframe tbody tr th {\n",
       "        vertical-align: top;\n",
       "    }\n",
       "\n",
       "    .dataframe thead th {\n",
       "        text-align: right;\n",
       "    }\n",
       "</style>\n",
       "<table border=\"1\" class=\"dataframe\">\n",
       "  <thead>\n",
       "    <tr style=\"text-align: right;\">\n",
       "      <th></th>\n",
       "      <th>OBJECTID</th>\n",
       "      <th>nid</th>\n",
       "      <th>validityDa</th>\n",
       "      <th>acquisitio</th>\n",
       "      <th>datasetNam</th>\n",
       "      <th>planimetri</th>\n",
       "      <th>provider</th>\n",
       "      <th>completely</th>\n",
       "      <th>manmadeTyp</th>\n",
       "      <th>manmadeT_1</th>\n",
       "      <th>manmadeSta</th>\n",
       "      <th>geographic</th>\n",
       "      <th>nameId1</th>\n",
       "      <th>nameId2</th>\n",
       "      <th>name1</th>\n",
       "      <th>name2</th>\n",
       "      <th>idDate</th>\n",
       "      <th>nameDate</th>\n",
       "      <th>SHAPE_Leng</th>\n",
       "      <th>SHAPE_Area</th>\n",
       "      <th>layer</th>\n",
       "      <th>path</th>\n",
       "      <th>ID_NHN</th>\n",
       "      <th>NL_Dam_Review_nhn_Dam ID</th>\n",
       "      <th>geometry</th>\n",
       "    </tr>\n",
       "  </thead>\n",
       "  <tbody>\n",
       "    <tr>\n",
       "      <th>0</th>\n",
       "      <td>4249.0</td>\n",
       "      <td>a148a2e8c46446ba87d435f3e47c3dcb</td>\n",
       "      <td>1986</td>\n",
       "      <td>5</td>\n",
       "      <td>02YL000</td>\n",
       "      <td>10</td>\n",
       "      <td>2</td>\n",
       "      <td>1</td>\n",
       "      <td>1</td>\n",
       "      <td>Dam</td>\n",
       "      <td>-1</td>\n",
       "      <td>None</td>\n",
       "      <td>None</td>\n",
       "      <td>None</td>\n",
       "      <td>None</td>\n",
       "      <td>None</td>\n",
       "      <td>None</td>\n",
       "      <td>None</td>\n",
       "      <td>0.000316</td>\n",
       "      <td>None</td>\n",
       "      <td>Point</td>\n",
       "      <td>Point?crs=EPSG:4617&amp;field=OBJECTID:long(0,0)&amp;f...</td>\n",
       "      <td>3648</td>\n",
       "      <td>a148a2e8c46446ba87d435f3e47c3dcb</td>\n",
       "      <td>POINT (-57.03635 49.63076)</td>\n",
       "    </tr>\n",
       "    <tr>\n",
       "      <th>1</th>\n",
       "      <td>4248.0</td>\n",
       "      <td>f6550df191b0418da8367994f62e2c1d</td>\n",
       "      <td>1986</td>\n",
       "      <td>5</td>\n",
       "      <td>02YL000</td>\n",
       "      <td>17</td>\n",
       "      <td>2</td>\n",
       "      <td>1</td>\n",
       "      <td>1</td>\n",
       "      <td>Dam</td>\n",
       "      <td>-1</td>\n",
       "      <td>None</td>\n",
       "      <td>None</td>\n",
       "      <td>None</td>\n",
       "      <td>None</td>\n",
       "      <td>None</td>\n",
       "      <td>None</td>\n",
       "      <td>None</td>\n",
       "      <td>0.000254</td>\n",
       "      <td>None</td>\n",
       "      <td>Point</td>\n",
       "      <td>Point?crs=EPSG:4617&amp;field=OBJECTID:long(0,0)&amp;f...</td>\n",
       "      <td>3649</td>\n",
       "      <td>f6550df191b0418da8367994f62e2c1d</td>\n",
       "      <td>POINT (-58.08564 49.06965)</td>\n",
       "    </tr>\n",
       "    <tr>\n",
       "      <th>2</th>\n",
       "      <td>4251.0</td>\n",
       "      <td>bf79d7082ed14462b7efe19af388a300</td>\n",
       "      <td>1986</td>\n",
       "      <td>5</td>\n",
       "      <td>02YL000</td>\n",
       "      <td>10</td>\n",
       "      <td>2</td>\n",
       "      <td>1</td>\n",
       "      <td>1</td>\n",
       "      <td>Dam</td>\n",
       "      <td>-1</td>\n",
       "      <td>None</td>\n",
       "      <td>None</td>\n",
       "      <td>None</td>\n",
       "      <td>None</td>\n",
       "      <td>None</td>\n",
       "      <td>None</td>\n",
       "      <td>None</td>\n",
       "      <td>0.000154</td>\n",
       "      <td>None</td>\n",
       "      <td>Point</td>\n",
       "      <td>Point?crs=EPSG:4617&amp;field=OBJECTID:long(0,0)&amp;f...</td>\n",
       "      <td>3650</td>\n",
       "      <td>bf79d7082ed14462b7efe19af388a300</td>\n",
       "      <td>POINT (-57.81380 48.93041)</td>\n",
       "    </tr>\n",
       "    <tr>\n",
       "      <th>3</th>\n",
       "      <td>4254.0</td>\n",
       "      <td>f138d3d189024135921e8e7acde03856</td>\n",
       "      <td>1986</td>\n",
       "      <td>5</td>\n",
       "      <td>02YL000</td>\n",
       "      <td>10</td>\n",
       "      <td>2</td>\n",
       "      <td>1</td>\n",
       "      <td>1</td>\n",
       "      <td>Dam</td>\n",
       "      <td>-1</td>\n",
       "      <td>None</td>\n",
       "      <td>None</td>\n",
       "      <td>None</td>\n",
       "      <td>None</td>\n",
       "      <td>None</td>\n",
       "      <td>None</td>\n",
       "      <td>None</td>\n",
       "      <td>0.000093</td>\n",
       "      <td>None</td>\n",
       "      <td>Point</td>\n",
       "      <td>Point?crs=EPSG:4617&amp;field=OBJECTID:long(0,0)&amp;f...</td>\n",
       "      <td>3652</td>\n",
       "      <td>f138d3d189024135921e8e7acde03856</td>\n",
       "      <td>POINT (-57.07446 49.66377)</td>\n",
       "    </tr>\n",
       "    <tr>\n",
       "      <th>4</th>\n",
       "      <td>4253.0</td>\n",
       "      <td>9a0a364b1f044284ab82f7cb0a6c7b32</td>\n",
       "      <td>1986</td>\n",
       "      <td>5</td>\n",
       "      <td>02YL000</td>\n",
       "      <td>10</td>\n",
       "      <td>2</td>\n",
       "      <td>1</td>\n",
       "      <td>1</td>\n",
       "      <td>Dam</td>\n",
       "      <td>-1</td>\n",
       "      <td>None</td>\n",
       "      <td>None</td>\n",
       "      <td>None</td>\n",
       "      <td>None</td>\n",
       "      <td>None</td>\n",
       "      <td>None</td>\n",
       "      <td>None</td>\n",
       "      <td>0.000178</td>\n",
       "      <td>None</td>\n",
       "      <td>Point</td>\n",
       "      <td>Point?crs=EPSG:4617&amp;field=OBJECTID:long(0,0)&amp;f...</td>\n",
       "      <td>3653</td>\n",
       "      <td>9a0a364b1f044284ab82f7cb0a6c7b32</td>\n",
       "      <td>POINT (-57.82785 48.95306)</td>\n",
       "    </tr>\n",
       "  </tbody>\n",
       "</table>\n",
       "</div>"
      ],
      "text/plain": [
       "   OBJECTID  ...                    geometry\n",
       "0    4249.0  ...  POINT (-57.03635 49.63076)\n",
       "1    4248.0  ...  POINT (-58.08564 49.06965)\n",
       "2    4251.0  ...  POINT (-57.81380 48.93041)\n",
       "3    4254.0  ...  POINT (-57.07446 49.66377)\n",
       "4    4253.0  ...  POINT (-57.82785 48.95306)\n",
       "\n",
       "[5 rows x 25 columns]"
      ]
     },
     "execution_count": 33,
     "metadata": {
      "tags": []
     },
     "output_type": "execute_result"
    }
   ],
   "source": [
    "pr_humber_dams_nhn_df.head(5)"
   ]
  },
  {
   "cell_type": "markdown",
   "metadata": {
    "id": "tHWVoMxb_qGB"
   },
   "source": [
    "## pr_humber_dams_nlprov_df columns:"
   ]
  },
  {
   "cell_type": "code",
   "execution_count": 34,
   "metadata": {
    "colab": {
     "base_uri": "https://localhost:8080/"
    },
    "id": "S1yaDo4W_n_5",
    "outputId": "885cc52f-d693-4a67-a06e-c870c4f57f78"
   },
   "outputs": [
    {
     "name": "stdout",
     "output_type": "stream",
     "text": [
      "<class 'geopandas.geodataframe.GeoDataFrame'>\n",
      "RangeIndex: 34 entries, 0 to 33\n",
      "Data columns (total 22 columns):\n",
      " #   Column                           Non-Null Count  Dtype   \n",
      "---  ------                           --------------  -----   \n",
      " 0   OBJECTID                         34 non-null     int64   \n",
      " 1   LAT_DEC                          34 non-null     float64 \n",
      " 2   LONG_DEC                         34 non-null     float64 \n",
      " 3   DAMINDEXNUM                      34 non-null     int64   \n",
      " 4   PROJECT_NAME                     33 non-null     object  \n",
      " 5   DAM_NAME                         34 non-null     object  \n",
      " 6   OWNER_NAME                       34 non-null     object  \n",
      " 7   YEARBUILT                        19 non-null     object  \n",
      " 8   DAMSTATUS                        33 non-null     object  \n",
      " 9   PURPOSE_DRINKING                 21 non-null     object  \n",
      " 10  PURPOSE_INDUSTRIAL               3 non-null      object  \n",
      " 11  PURPOSE_HYDRO                    4 non-null      object  \n",
      " 12  PURPOSE_FLOOD                    1 non-null      object  \n",
      " 13  PURPOSE_ICE                      0 non-null      object  \n",
      " 14  PURPOSE_FORESTRY                 0 non-null      object  \n",
      " 15  PURPOSE_UNKNOWN                  0 non-null      object  \n",
      " 16  PURPOSE_OTHER                    7 non-null      object  \n",
      " 17  DAM_TYPE                         31 non-null     object  \n",
      " 18  DAM_TYPE_OTHER                   8 non-null      object  \n",
      " 19  DIM_MAXHEIGHT                    25 non-null     float64 \n",
      " 20  NL_Dam_Review_nlprovince_Dam ID  34 non-null     int64   \n",
      " 21  geometry                         34 non-null     geometry\n",
      "dtypes: float64(3), geometry(1), int64(3), object(15)\n",
      "memory usage: 6.0+ KB\n"
     ]
    }
   ],
   "source": [
    "pr_humber_dams_nlprov_df.info()"
   ]
  },
  {
   "cell_type": "code",
   "execution_count": 35,
   "metadata": {
    "colab": {
     "base_uri": "https://localhost:8080/",
     "height": 467
    },
    "id": "omD5B0Xi4N3M",
    "outputId": "6e68f3d9-6bc2-4389-c4cb-8f672c9c384c"
   },
   "outputs": [
    {
     "data": {
      "text/html": [
       "<div>\n",
       "<style scoped>\n",
       "    .dataframe tbody tr th:only-of-type {\n",
       "        vertical-align: middle;\n",
       "    }\n",
       "\n",
       "    .dataframe tbody tr th {\n",
       "        vertical-align: top;\n",
       "    }\n",
       "\n",
       "    .dataframe thead th {\n",
       "        text-align: right;\n",
       "    }\n",
       "</style>\n",
       "<table border=\"1\" class=\"dataframe\">\n",
       "  <thead>\n",
       "    <tr style=\"text-align: right;\">\n",
       "      <th></th>\n",
       "      <th>OBJECTID</th>\n",
       "      <th>LAT_DEC</th>\n",
       "      <th>LONG_DEC</th>\n",
       "      <th>DAMINDEXNUM</th>\n",
       "      <th>PROJECT_NAME</th>\n",
       "      <th>DAM_NAME</th>\n",
       "      <th>OWNER_NAME</th>\n",
       "      <th>YEARBUILT</th>\n",
       "      <th>DAMSTATUS</th>\n",
       "      <th>PURPOSE_DRINKING</th>\n",
       "      <th>PURPOSE_INDUSTRIAL</th>\n",
       "      <th>PURPOSE_HYDRO</th>\n",
       "      <th>PURPOSE_FLOOD</th>\n",
       "      <th>PURPOSE_ICE</th>\n",
       "      <th>PURPOSE_FORESTRY</th>\n",
       "      <th>PURPOSE_UNKNOWN</th>\n",
       "      <th>PURPOSE_OTHER</th>\n",
       "      <th>DAM_TYPE</th>\n",
       "      <th>DAM_TYPE_OTHER</th>\n",
       "      <th>DIM_MAXHEIGHT</th>\n",
       "      <th>NL_Dam_Review_nlprovince_Dam ID</th>\n",
       "      <th>geometry</th>\n",
       "    </tr>\n",
       "  </thead>\n",
       "  <tbody>\n",
       "    <tr>\n",
       "      <th>0</th>\n",
       "      <td>944</td>\n",
       "      <td>49.008756</td>\n",
       "      <td>-57.561714</td>\n",
       "      <td>408</td>\n",
       "      <td>Pasadena Water Supply</td>\n",
       "      <td>Blue Gulch Brook West Dam</td>\n",
       "      <td>Town of Pasadena</td>\n",
       "      <td>None</td>\n",
       "      <td>Active</td>\n",
       "      <td>Primary</td>\n",
       "      <td>None</td>\n",
       "      <td>None</td>\n",
       "      <td>None</td>\n",
       "      <td>None</td>\n",
       "      <td>None</td>\n",
       "      <td>None</td>\n",
       "      <td>None</td>\n",
       "      <td>CAD = concrete arch</td>\n",
       "      <td>None</td>\n",
       "      <td>2.0</td>\n",
       "      <td>944</td>\n",
       "      <td>POINT (-57.56171 49.00876)</td>\n",
       "    </tr>\n",
       "    <tr>\n",
       "      <th>1</th>\n",
       "      <td>945</td>\n",
       "      <td>48.998247</td>\n",
       "      <td>-57.871769</td>\n",
       "      <td>409</td>\n",
       "      <td>Hughes Brook Water Supply</td>\n",
       "      <td>Water Supply Dam</td>\n",
       "      <td>Town of Hughes Brook</td>\n",
       "      <td>1986</td>\n",
       "      <td>Active</td>\n",
       "      <td>Primary</td>\n",
       "      <td>None</td>\n",
       "      <td>None</td>\n",
       "      <td>None</td>\n",
       "      <td>None</td>\n",
       "      <td>None</td>\n",
       "      <td>None</td>\n",
       "      <td>None</td>\n",
       "      <td>CGD = concrete gravity</td>\n",
       "      <td>None</td>\n",
       "      <td>3.0</td>\n",
       "      <td>945</td>\n",
       "      <td>POINT (-57.87177 48.99825)</td>\n",
       "    </tr>\n",
       "    <tr>\n",
       "      <th>2</th>\n",
       "      <td>946</td>\n",
       "      <td>49.012069</td>\n",
       "      <td>-58.035850</td>\n",
       "      <td>410</td>\n",
       "      <td>Gillams Old Water Supply</td>\n",
       "      <td>Jackie Tapp's Brook Dam</td>\n",
       "      <td>Town of Gillams</td>\n",
       "      <td>1986</td>\n",
       "      <td>Active</td>\n",
       "      <td>Primary</td>\n",
       "      <td>None</td>\n",
       "      <td>None</td>\n",
       "      <td>None</td>\n",
       "      <td>None</td>\n",
       "      <td>None</td>\n",
       "      <td>None</td>\n",
       "      <td>None</td>\n",
       "      <td>CGD = concrete gravity</td>\n",
       "      <td>Concrete faced rockfill dam also checked on up...</td>\n",
       "      <td>1.0</td>\n",
       "      <td>946</td>\n",
       "      <td>POINT (-58.03585 49.01207)</td>\n",
       "    </tr>\n",
       "    <tr>\n",
       "      <th>3</th>\n",
       "      <td>957</td>\n",
       "      <td>48.993056</td>\n",
       "      <td>-57.936389</td>\n",
       "      <td>421</td>\n",
       "      <td>Irishtown - Summerside Water Supply</td>\n",
       "      <td>Irishtown Brook Dam</td>\n",
       "      <td>Town of Irishtown - Summerside</td>\n",
       "      <td>1990</td>\n",
       "      <td>Active</td>\n",
       "      <td>Primary</td>\n",
       "      <td>None</td>\n",
       "      <td>None</td>\n",
       "      <td>None</td>\n",
       "      <td>None</td>\n",
       "      <td>None</td>\n",
       "      <td>None</td>\n",
       "      <td>None</td>\n",
       "      <td>CGD = concrete gravity</td>\n",
       "      <td>None</td>\n",
       "      <td>4.0</td>\n",
       "      <td>957</td>\n",
       "      <td>POINT (-57.93679 48.99330)</td>\n",
       "    </tr>\n",
       "    <tr>\n",
       "      <th>4</th>\n",
       "      <td>961</td>\n",
       "      <td>48.996389</td>\n",
       "      <td>-57.967500</td>\n",
       "      <td>425</td>\n",
       "      <td>Irishtown - Summerside Water Supply</td>\n",
       "      <td>Pynn's Pond Dam</td>\n",
       "      <td>Town of Irishtown - Summerside</td>\n",
       "      <td>None</td>\n",
       "      <td>Active</td>\n",
       "      <td>Primary</td>\n",
       "      <td>None</td>\n",
       "      <td>None</td>\n",
       "      <td>None</td>\n",
       "      <td>None</td>\n",
       "      <td>None</td>\n",
       "      <td>None</td>\n",
       "      <td>None</td>\n",
       "      <td>CFRD = concrete faced rockfill dam</td>\n",
       "      <td>None</td>\n",
       "      <td>3.0</td>\n",
       "      <td>961</td>\n",
       "      <td>POINT (-57.96750 48.99639)</td>\n",
       "    </tr>\n",
       "  </tbody>\n",
       "</table>\n",
       "</div>"
      ],
      "text/plain": [
       "   OBJECTID  ...                    geometry\n",
       "0       944  ...  POINT (-57.56171 49.00876)\n",
       "1       945  ...  POINT (-57.87177 48.99825)\n",
       "2       946  ...  POINT (-58.03585 49.01207)\n",
       "3       957  ...  POINT (-57.93679 48.99330)\n",
       "4       961  ...  POINT (-57.96750 48.99639)\n",
       "\n",
       "[5 rows x 22 columns]"
      ]
     },
     "execution_count": 35,
     "metadata": {
      "tags": []
     },
     "output_type": "execute_result"
    }
   ],
   "source": [
    "pr_humber_dams_nlprov_df.head(5)"
   ]
  },
  {
   "cell_type": "markdown",
   "metadata": {
    "id": "5hy-5Pke_wu4"
   },
   "source": [
    "## pr_humber_dams_npdp_df columns:"
   ]
  },
  {
   "cell_type": "code",
   "execution_count": 36,
   "metadata": {
    "colab": {
     "base_uri": "https://localhost:8080/"
    },
    "id": "BU2kfk47_0PX",
    "outputId": "04e6cdf8-18df-4111-8b7e-1dd1b769d262"
   },
   "outputs": [
    {
     "name": "stdout",
     "output_type": "stream",
     "text": [
      "<class 'geopandas.geodataframe.GeoDataFrame'>\n",
      "RangeIndex: 1 entries, 0 to 0\n",
      "Data columns (total 38 columns):\n",
      " #   Column                         Non-Null Count  Dtype   \n",
      "---  ------                         --------------  -----   \n",
      " 0   NPDP_ID                        1 non-null      int64   \n",
      " 1   CDA_ID                         1 non-null      int64   \n",
      " 2   Dam Name                       1 non-null      object  \n",
      " 3   Alternative Dam Name           0 non-null      object  \n",
      " 4   Dam Type                       1 non-null      object  \n",
      " 5   Dam Height (m)                 1 non-null      int64   \n",
      " 6   Dam Lengh (m)                  1 non-null      int64   \n",
      " 7   Hazard Class                   1 non-null      object  \n",
      " 8   Latitude                       1 non-null      float64 \n",
      " 9   Longitude                      1 non-null      float64 \n",
      " 10  Emergency Action Plan          0 non-null      object  \n",
      " 11  Main Purpose                   1 non-null      object  \n",
      " 12  Other purposes                 0 non-null      object  \n",
      " 13  Country                        1 non-null      object  \n",
      " 14  State/ Province                1 non-null      object  \n",
      " 15  River                          1 non-null      object  \n",
      " 16  Nearest Downstream city        0 non-null      object  \n",
      " 17  Distance to City (km)          0 non-null      object  \n",
      " 18  Population at Risk             0 non-null      object  \n",
      " 19  Year Completed                 1 non-null      int64   \n",
      " 20  Year Modified                  0 non-null      object  \n",
      " 21  Normal Reservoir Storage (m3)  1 non-null      object  \n",
      " 22  Max Reservoir Storage (m3)     0 non-null      object  \n",
      " 23  Crest Elevation (m)            0 non-null      object  \n",
      " 24  Dam Base Width (m)             0 non-null      object  \n",
      " 25  Foundation type                0 non-null      object  \n",
      " 26  Core Type                      0 non-null      object  \n",
      " 27  Volume (m3)                    1 non-null      object  \n",
      " 28  Material                       0 non-null      object  \n",
      " 29  Dam Designer                   0 non-null      object  \n",
      " 30  Federal Regulatory Agency      0 non-null      object  \n",
      " 31  Inspection Frequancy/ year     0 non-null      object  \n",
      " 32  State Regulated                0 non-null      object  \n",
      " 33  Mean Annual Energy             0 non-null      object  \n",
      " 34  Electric Capacity              0 non-null      object  \n",
      " 35  Source                         0 non-null      object  \n",
      " 36  NL_Dam_Review_npdp_Dam ID      1 non-null      object  \n",
      " 37  geometry                       1 non-null      geometry\n",
      "dtypes: float64(2), geometry(1), int64(5), object(30)\n",
      "memory usage: 432.0+ bytes\n"
     ]
    }
   ],
   "source": [
    "pr_humber_dams_npdp_df.info()"
   ]
  },
  {
   "cell_type": "code",
   "execution_count": 37,
   "metadata": {
    "colab": {
     "base_uri": "https://localhost:8080/",
     "height": 197
    },
    "id": "TOwo5Iji4N3M",
    "outputId": "b12ac2d8-8490-4804-eca1-fb5e7cb4767c"
   },
   "outputs": [
    {
     "data": {
      "text/html": [
       "<div>\n",
       "<style scoped>\n",
       "    .dataframe tbody tr th:only-of-type {\n",
       "        vertical-align: middle;\n",
       "    }\n",
       "\n",
       "    .dataframe tbody tr th {\n",
       "        vertical-align: top;\n",
       "    }\n",
       "\n",
       "    .dataframe thead th {\n",
       "        text-align: right;\n",
       "    }\n",
       "</style>\n",
       "<table border=\"1\" class=\"dataframe\">\n",
       "  <thead>\n",
       "    <tr style=\"text-align: right;\">\n",
       "      <th></th>\n",
       "      <th>NPDP_ID</th>\n",
       "      <th>CDA_ID</th>\n",
       "      <th>Dam Name</th>\n",
       "      <th>Alternative Dam Name</th>\n",
       "      <th>Dam Type</th>\n",
       "      <th>Dam Height (m)</th>\n",
       "      <th>Dam Lengh (m)</th>\n",
       "      <th>Hazard Class</th>\n",
       "      <th>Latitude</th>\n",
       "      <th>Longitude</th>\n",
       "      <th>Emergency Action Plan</th>\n",
       "      <th>Main Purpose</th>\n",
       "      <th>Other purposes</th>\n",
       "      <th>Country</th>\n",
       "      <th>State/ Province</th>\n",
       "      <th>River</th>\n",
       "      <th>Nearest Downstream city</th>\n",
       "      <th>Distance to City (km)</th>\n",
       "      <th>Population at Risk</th>\n",
       "      <th>Year Completed</th>\n",
       "      <th>Year Modified</th>\n",
       "      <th>Normal Reservoir Storage (m3)</th>\n",
       "      <th>Max Reservoir Storage (m3)</th>\n",
       "      <th>Crest Elevation (m)</th>\n",
       "      <th>Dam Base Width (m)</th>\n",
       "      <th>Foundation type</th>\n",
       "      <th>Core Type</th>\n",
       "      <th>Volume (m3)</th>\n",
       "      <th>Material</th>\n",
       "      <th>Dam Designer</th>\n",
       "      <th>Federal Regulatory Agency</th>\n",
       "      <th>Inspection Frequancy/ year</th>\n",
       "      <th>State Regulated</th>\n",
       "      <th>Mean Annual Energy</th>\n",
       "      <th>Electric Capacity</th>\n",
       "      <th>Source</th>\n",
       "      <th>NL_Dam_Review_npdp_Dam ID</th>\n",
       "      <th>geometry</th>\n",
       "    </tr>\n",
       "  </thead>\n",
       "  <tbody>\n",
       "    <tr>\n",
       "      <th>0</th>\n",
       "      <td>787</td>\n",
       "      <td>97</td>\n",
       "      <td>Main Diversion D. Grand Lake</td>\n",
       "      <td>None</td>\n",
       "      <td>Buttress</td>\n",
       "      <td>25</td>\n",
       "      <td>226</td>\n",
       "      <td>Unknown</td>\n",
       "      <td>49.169952</td>\n",
       "      <td>-57.436113</td>\n",
       "      <td>None</td>\n",
       "      <td>Hydroelectricity</td>\n",
       "      <td>None</td>\n",
       "      <td>Canada</td>\n",
       "      <td>NF</td>\n",
       "      <td>Junction Brook</td>\n",
       "      <td>None</td>\n",
       "      <td>None</td>\n",
       "      <td>None</td>\n",
       "      <td>1924</td>\n",
       "      <td>None</td>\n",
       "      <td>1,788,560,000.00</td>\n",
       "      <td>None</td>\n",
       "      <td>None</td>\n",
       "      <td>None</td>\n",
       "      <td>None</td>\n",
       "      <td>None</td>\n",
       "      <td>27,000.00</td>\n",
       "      <td>None</td>\n",
       "      <td>None</td>\n",
       "      <td>None</td>\n",
       "      <td>None</td>\n",
       "      <td>None</td>\n",
       "      <td>None</td>\n",
       "      <td>None</td>\n",
       "      <td>None</td>\n",
       "      <td>787</td>\n",
       "      <td>POINT (-57.43661 49.17021)</td>\n",
       "    </tr>\n",
       "  </tbody>\n",
       "</table>\n",
       "</div>"
      ],
      "text/plain": [
       "   NPDP_ID  CDA_ID  ... NL_Dam_Review_npdp_Dam ID                    geometry\n",
       "0      787      97  ...                       787  POINT (-57.43661 49.17021)\n",
       "\n",
       "[1 rows x 38 columns]"
      ]
     },
     "execution_count": 37,
     "metadata": {
      "tags": []
     },
     "output_type": "execute_result"
    }
   ],
   "source": [
    "pr_humber_dams_npdp_df.head(5)"
   ]
  },
  {
   "cell_type": "markdown",
   "metadata": {
    "id": "Jeh2NuFQ_68Q"
   },
   "source": [
    "## pr_humber_falls_nhn_df columns:"
   ]
  },
  {
   "cell_type": "code",
   "execution_count": 38,
   "metadata": {
    "colab": {
     "base_uri": "https://localhost:8080/"
    },
    "id": "kR95h3uk_9q_",
    "outputId": "7a8d36af-2bb6-4bf1-a543-effdfc8dfabe"
   },
   "outputs": [
    {
     "name": "stdout",
     "output_type": "stream",
     "text": [
      "<class 'geopandas.geodataframe.GeoDataFrame'>\n",
      "RangeIndex: 31 entries, 0 to 30\n",
      "Data columns (total 21 columns):\n",
      " #   Column                Non-Null Count  Dtype   \n",
      "---  ------                --------------  -----   \n",
      " 0   OBJECTID              31 non-null     int64   \n",
      " 1   nid                   31 non-null     object  \n",
      " 2   validityDate          31 non-null     object  \n",
      " 3   acquisitionTechnique  31 non-null     int64   \n",
      " 4   datasetName           31 non-null     object  \n",
      " 5   planimetricAccuracy   31 non-null     int64   \n",
      " 6   provider              31 non-null     int64   \n",
      " 7   completelyCover       31 non-null     int64   \n",
      " 8   obstacleType          31 non-null     int64   \n",
      " 9   obstacleTypeText      31 non-null     object  \n",
      " 10  geographicalNameDB    31 non-null     object  \n",
      " 11  nameId1               31 non-null     object  \n",
      " 12  nameId2               31 non-null     object  \n",
      " 13  name1                 31 non-null     object  \n",
      " 14  name2                 31 non-null     object  \n",
      " 15  idDate                31 non-null     object  \n",
      " 16  nameDate              31 non-null     object  \n",
      " 17  SHAPE_Length          6 non-null      float64 \n",
      " 18  layer                 31 non-null     object  \n",
      " 19  path                  31 non-null     object  \n",
      " 20  geometry              31 non-null     geometry\n",
      "dtypes: float64(1), geometry(1), int64(6), object(13)\n",
      "memory usage: 5.2+ KB\n"
     ]
    }
   ],
   "source": [
    "pr_humber_falls_nhn_df.info()"
   ]
  },
  {
   "cell_type": "code",
   "execution_count": null,
   "metadata": {
    "id": "0gOKcbjB4N3M",
    "outputId": "6c699454-378b-4e8f-d7c9-a7f6648fb41b"
   },
   "outputs": [
    {
     "data": {
      "text/html": [
       "<div>\n",
       "<style scoped>\n",
       "    .dataframe tbody tr th:only-of-type {\n",
       "        vertical-align: middle;\n",
       "    }\n",
       "\n",
       "    .dataframe tbody tr th {\n",
       "        vertical-align: top;\n",
       "    }\n",
       "\n",
       "    .dataframe thead th {\n",
       "        text-align: right;\n",
       "    }\n",
       "</style>\n",
       "<table border=\"1\" class=\"dataframe\">\n",
       "  <thead>\n",
       "    <tr style=\"text-align: right;\">\n",
       "      <th></th>\n",
       "      <th>OBJECTID</th>\n",
       "      <th>nid</th>\n",
       "      <th>validityDate</th>\n",
       "      <th>acquisitionTechnique</th>\n",
       "      <th>datasetName</th>\n",
       "      <th>planimetricAccuracy</th>\n",
       "      <th>provider</th>\n",
       "      <th>completelyCover</th>\n",
       "      <th>obstacleType</th>\n",
       "      <th>obstacleTypeText</th>\n",
       "      <th>...</th>\n",
       "      <th>nameId1</th>\n",
       "      <th>nameId2</th>\n",
       "      <th>name1</th>\n",
       "      <th>name2</th>\n",
       "      <th>idDate</th>\n",
       "      <th>nameDate</th>\n",
       "      <th>SHAPE_Length</th>\n",
       "      <th>layer</th>\n",
       "      <th>path</th>\n",
       "      <th>geometry</th>\n",
       "    </tr>\n",
       "  </thead>\n",
       "  <tbody>\n",
       "    <tr>\n",
       "      <th>0</th>\n",
       "      <td>149970</td>\n",
       "      <td>ea26c81b52ef4cddab421eca36c110ac</td>\n",
       "      <td>1986</td>\n",
       "      <td>5</td>\n",
       "      <td>02YL000</td>\n",
       "      <td>17</td>\n",
       "      <td>2</td>\n",
       "      <td>1</td>\n",
       "      <td>1</td>\n",
       "      <td>Falls</td>\n",
       "      <td>...</td>\n",
       "      <td></td>\n",
       "      <td></td>\n",
       "      <td></td>\n",
       "      <td></td>\n",
       "      <td></td>\n",
       "      <td></td>\n",
       "      <td>NaN</td>\n",
       "      <td>NHN_OB_0_falls</td>\n",
       "      <td>\\\\cwf-stge-svr4\\share\\Conservation Program\\Fre...</td>\n",
       "      <td>POINT (-58.09071 48.94046)</td>\n",
       "    </tr>\n",
       "    <tr>\n",
       "      <th>1</th>\n",
       "      <td>149988</td>\n",
       "      <td>0d741e4c810a4402b0a4fb7d54f657a1</td>\n",
       "      <td>1986</td>\n",
       "      <td>5</td>\n",
       "      <td>02YL000</td>\n",
       "      <td>10</td>\n",
       "      <td>2</td>\n",
       "      <td>1</td>\n",
       "      <td>1</td>\n",
       "      <td>Falls</td>\n",
       "      <td>...</td>\n",
       "      <td></td>\n",
       "      <td></td>\n",
       "      <td></td>\n",
       "      <td></td>\n",
       "      <td></td>\n",
       "      <td></td>\n",
       "      <td>NaN</td>\n",
       "      <td>NHN_OB_0_falls</td>\n",
       "      <td>\\\\cwf-stge-svr4\\share\\Conservation Program\\Fre...</td>\n",
       "      <td>POINT (-57.31074 49.52131)</td>\n",
       "    </tr>\n",
       "    <tr>\n",
       "      <th>2</th>\n",
       "      <td>150008</td>\n",
       "      <td>deb254892cfa44ed8bfbaa0fc097c987</td>\n",
       "      <td>1986</td>\n",
       "      <td>5</td>\n",
       "      <td>02YL000</td>\n",
       "      <td>10</td>\n",
       "      <td>2</td>\n",
       "      <td>1</td>\n",
       "      <td>1</td>\n",
       "      <td>Falls</td>\n",
       "      <td>...</td>\n",
       "      <td></td>\n",
       "      <td></td>\n",
       "      <td></td>\n",
       "      <td></td>\n",
       "      <td></td>\n",
       "      <td></td>\n",
       "      <td>NaN</td>\n",
       "      <td>NHN_OB_0_falls</td>\n",
       "      <td>\\\\cwf-stge-svr4\\share\\Conservation Program\\Fre...</td>\n",
       "      <td>POINT (-57.17948 49.51085)</td>\n",
       "    </tr>\n",
       "    <tr>\n",
       "      <th>3</th>\n",
       "      <td>150031</td>\n",
       "      <td>2a4d97f612754fb3a253cab1340785ce</td>\n",
       "      <td>1986</td>\n",
       "      <td>5</td>\n",
       "      <td>02YL000</td>\n",
       "      <td>17</td>\n",
       "      <td>2</td>\n",
       "      <td>1</td>\n",
       "      <td>1</td>\n",
       "      <td>Falls</td>\n",
       "      <td>...</td>\n",
       "      <td></td>\n",
       "      <td></td>\n",
       "      <td></td>\n",
       "      <td></td>\n",
       "      <td></td>\n",
       "      <td></td>\n",
       "      <td>NaN</td>\n",
       "      <td>NHN_OB_0_falls</td>\n",
       "      <td>\\\\cwf-stge-svr4\\share\\Conservation Program\\Fre...</td>\n",
       "      <td>POINT (-58.24835 49.01570)</td>\n",
       "    </tr>\n",
       "    <tr>\n",
       "      <th>4</th>\n",
       "      <td>150033</td>\n",
       "      <td>0f665eef639d4c6aa35ceeffe824cb84</td>\n",
       "      <td>1986</td>\n",
       "      <td>5</td>\n",
       "      <td>02YL000</td>\n",
       "      <td>10</td>\n",
       "      <td>2</td>\n",
       "      <td>1</td>\n",
       "      <td>1</td>\n",
       "      <td>Falls</td>\n",
       "      <td>...</td>\n",
       "      <td></td>\n",
       "      <td></td>\n",
       "      <td></td>\n",
       "      <td></td>\n",
       "      <td></td>\n",
       "      <td></td>\n",
       "      <td>NaN</td>\n",
       "      <td>NHN_OB_0_falls</td>\n",
       "      <td>\\\\cwf-stge-svr4\\share\\Conservation Program\\Fre...</td>\n",
       "      <td>POINT (-57.90643 49.25651)</td>\n",
       "    </tr>\n",
       "  </tbody>\n",
       "</table>\n",
       "<p>5 rows × 21 columns</p>\n",
       "</div>"
      ],
      "text/plain": [
       "   OBJECTID                               nid validityDate  \\\n",
       "0    149970  ea26c81b52ef4cddab421eca36c110ac         1986   \n",
       "1    149988  0d741e4c810a4402b0a4fb7d54f657a1         1986   \n",
       "2    150008  deb254892cfa44ed8bfbaa0fc097c987         1986   \n",
       "3    150031  2a4d97f612754fb3a253cab1340785ce         1986   \n",
       "4    150033  0f665eef639d4c6aa35ceeffe824cb84         1986   \n",
       "\n",
       "   acquisitionTechnique datasetName  planimetricAccuracy  provider  \\\n",
       "0                     5     02YL000                   17         2   \n",
       "1                     5     02YL000                   10         2   \n",
       "2                     5     02YL000                   10         2   \n",
       "3                     5     02YL000                   17         2   \n",
       "4                     5     02YL000                   10         2   \n",
       "\n",
       "   completelyCover  obstacleType obstacleTypeText  ... nameId1 nameId2 name1  \\\n",
       "0                1             1            Falls  ...                         \n",
       "1                1             1            Falls  ...                         \n",
       "2                1             1            Falls  ...                         \n",
       "3                1             1            Falls  ...                         \n",
       "4                1             1            Falls  ...                         \n",
       "\n",
       "  name2 idDate nameDate SHAPE_Length           layer  \\\n",
       "0                                NaN  NHN_OB_0_falls   \n",
       "1                                NaN  NHN_OB_0_falls   \n",
       "2                                NaN  NHN_OB_0_falls   \n",
       "3                                NaN  NHN_OB_0_falls   \n",
       "4                                NaN  NHN_OB_0_falls   \n",
       "\n",
       "                                                path  \\\n",
       "0  \\\\cwf-stge-svr4\\share\\Conservation Program\\Fre...   \n",
       "1  \\\\cwf-stge-svr4\\share\\Conservation Program\\Fre...   \n",
       "2  \\\\cwf-stge-svr4\\share\\Conservation Program\\Fre...   \n",
       "3  \\\\cwf-stge-svr4\\share\\Conservation Program\\Fre...   \n",
       "4  \\\\cwf-stge-svr4\\share\\Conservation Program\\Fre...   \n",
       "\n",
       "                     geometry  \n",
       "0  POINT (-58.09071 48.94046)  \n",
       "1  POINT (-57.31074 49.52131)  \n",
       "2  POINT (-57.17948 49.51085)  \n",
       "3  POINT (-58.24835 49.01570)  \n",
       "4  POINT (-57.90643 49.25651)  \n",
       "\n",
       "[5 rows x 21 columns]"
      ]
     },
     "execution_count": 51,
     "metadata": {
      "tags": []
     },
     "output_type": "execute_result"
    }
   ],
   "source": [
    "pr_humber_falls_nhn_df.head(5)"
   ]
  },
  {
   "cell_type": "markdown",
   "metadata": {
    "id": "_dfqyh-m4N3N"
   },
   "source": [
    "- All barriers have latitude and longitude data as a point\n",
    "- All but falls and dams_nhn have dam name\n",
    "- The layer names can be used as the type for different types of barrier\n",
    "\n"
   ]
  },
  {
   "cell_type": "markdown",
   "metadata": {
    "id": "wcOVk0Kg4N3N"
   },
   "source": [
    "# Prepare to export:\n",
    "select only the important columns (location, type, ?) concatenate all and save as gpkg file"
   ]
  },
  {
   "cell_type": "markdown",
   "metadata": {
    "id": "WiKFtXruAEai"
   },
   "source": [
    "### Create barrier type based on the layer:"
   ]
  },
  {
   "cell_type": "code",
   "execution_count": 39,
   "metadata": {
    "id": "wXsq5vwB4N3O"
   },
   "outputs": [],
   "source": [
    "pr_humber_dams_grand_df['barrier_type'] = \"grand\"\n",
    "pr_humber_dams_nhn_df['barrier_type'] = \"nhn\"\n",
    "pr_humber_dams_nlprov_df['barrier_type'] = \"nlprov\"\n",
    "pr_humber_dams_npdp_df['barrier_type'] = \"npdp\"\n",
    "pr_humber_falls_nhn_df['barrier_type'] = \"falls\""
   ]
  },
  {
   "cell_type": "code",
   "execution_count": 40,
   "metadata": {
    "id": "mQyBLH2i4N3O"
   },
   "outputs": [],
   "source": [
    "br_df = pd.concat([pr_humber_dams_grand_df[['barrier_type', 'geometry']], \\\n",
    "           pr_humber_dams_nhn_df[['barrier_type', 'geometry']], \\\n",
    "           pr_humber_dams_nlprov_df[['barrier_type', 'geometry']], \\\n",
    "           pr_humber_dams_npdp_df[['barrier_type', 'geometry']], \\\n",
    "           pr_humber_falls_nhn_df[['barrier_type', 'geometry']]], axis=0)"
   ]
  },
  {
   "cell_type": "code",
   "execution_count": 42,
   "metadata": {
    "colab": {
     "base_uri": "https://localhost:8080/"
    },
    "id": "7NVLiMf_4N3O",
    "outputId": "588ed79b-664a-4c22-bc82-4d0c694dec8a"
   },
   "outputs": [
    {
     "name": "stderr",
     "output_type": "stream",
     "text": [
      "/usr/local/lib/python3.7/dist-packages/ipykernel_launcher.py:3: UserWarning: Column names longer than 10 characters will be truncated when saved to ESRI Shapefile.\n",
      "  This is separate from the ipykernel package so we can avoid doing imports until\n"
     ]
    }
   ],
   "source": [
    "# Optional\n",
    "# Save to your Google drive\n",
    "\n",
    "br_df.to_file('drive/MyDrive/Humber_Barriers.gpkg')"
   ]
  }
 ],
 "metadata": {
  "colab": {
   "name": "Barrier preprocessing.ipynb",
   "provenance": []
  },
  "kernelspec": {
   "display_name": "Python 3",
   "language": "python",
   "name": "python3"
  },
  "language_info": {
   "codemirror_mode": {
    "name": "ipython",
    "version": 3
   },
   "file_extension": ".py",
   "mimetype": "text/x-python",
   "name": "python",
   "nbconvert_exporter": "python",
   "pygments_lexer": "ipython3",
   "version": "3.8.3"
  }
 },
 "nbformat": 4,
 "nbformat_minor": 1
}
